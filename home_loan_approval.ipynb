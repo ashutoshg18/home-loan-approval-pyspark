{
 "cells": [
  {
   "cell_type": "code",
   "execution_count": 1,
   "metadata": {},
   "outputs": [],
   "source": [
    "from pyspark.sql import SparkSession\n",
    "from pyspark.sql.types import StructType, StructField, StringType, IntegerType, LongType"
   ]
  },
  {
   "cell_type": "code",
   "execution_count": 2,
   "metadata": {},
   "outputs": [],
   "source": [
    "spark = SparkSession.builder.appName(\"Home Loan Approval System\").getOrCreate()"
   ]
  },
  {
   "cell_type": "code",
   "execution_count": 3,
   "metadata": {},
   "outputs": [],
   "source": [
    "application_data_schema = StructType([\n",
    "    StructField(\"Customername\",StringType(),True),\n",
    "    StructField(\"DOB\",StringType(),True),\n",
    "    StructField(\"UIN\",StringType(),True),\n",
    "    StructField(\"MailID\",StringType(),True),\n",
    "    StructField(\"PhoneNumber\",LongType(),True),\n",
    "    StructField(\"City\",StringType(),True),\n",
    "    StructField(\"State\",StringType(),True),\n",
    "    StructField(\"LivingStatus\",StringType(),True),\n",
    "    StructField(\"PinCode\",StringType(),True),\n",
    "    StructField(\"LoanAmount\",LongType(),True)\n",
    "])"
   ]
  },
  {
   "cell_type": "code",
   "execution_count": 4,
   "metadata": {},
   "outputs": [],
   "source": [
    "client_reference_schema = StructType([\n",
    "    StructField(\"CustomerName\",StringType(),True),\n",
    "    StructField(\"DOB\",StringType(),True),\n",
    "    StructField(\"UIN\",StringType(),True),\n",
    "    StructField(\"City\",StringType(),True),\n",
    "    StructField(\"State\",StringType(),True),\n",
    "    StructField(\"PinCode\",LongType(),True),\n",
    "    StructField(\"CibilScore\",LongType(),True),\n",
    "    StructField(\"DefaulterFlag\",StringType(),True)\n",
    "])"
   ]
  },
  {
   "cell_type": "code",
   "execution_count": 5,
   "metadata": {},
   "outputs": [],
   "source": [
    "application_data_df = spark.read.csv('./HomeLoanApplicationData.csv', schema= application_data_schema)"
   ]
  },
  {
   "cell_type": "code",
   "execution_count": 6,
   "metadata": {},
   "outputs": [],
   "source": [
    "client_reference_df = spark.read.csv('./ClientReferenceDataset.csv', schema=client_reference_schema)"
   ]
  },
  {
   "cell_type": "code",
   "execution_count": 7,
   "metadata": {},
   "outputs": [
    {
     "name": "stdout",
     "output_type": "stream",
     "text": [
      "+------------+--------+-------+-----------------+-----------+-----------------+-----------+------------+-------+----------+\n",
      "|Customername|     DOB|    UIN|           MailID|PhoneNumber|             City|      State|LivingStatus|PinCode|LoanAmount|\n",
      "+------------+--------+-------+-----------------+-----------+-----------------+-----------+------------+-------+----------+\n",
      "|    Abhishek|23-08-81|UIN0001|Abhishek@mail.com| 1287655553|        Ahmedabad|    Gujarat|         APL| 380001|     23000|\n",
      "|        Aman|17-09-84|UIN0002|    Aman@mail.com| 9776543221|           Mumbai|Maharashtra|         BPL| 400001|     22500|\n",
      "|       Harsh|17-03-83|UIN0003|   Harsh@mail.com| 9987765234|Thiruvananthpuram|     Kerala|         BPL| 695001|     21500|\n",
      "|       Ayush|22-02-78|UIN0004|   Ayush@mail.com| 4335544553|Thiruvananthpuram|     Kerala|         APL| 695001|     21500|\n",
      "|       Aditi|21-08-79|UIN0005|   Aditi@mail.com| 8888777722|           Mumbai|Maharashtra|         BPL| 400001|     25500|\n",
      "+------------+--------+-------+-----------------+-----------+-----------------+-----------+------------+-------+----------+\n",
      "only showing top 5 rows\n",
      "\n"
     ]
    }
   ],
   "source": [
    "application_data_df.show(5)"
   ]
  },
  {
   "cell_type": "code",
   "execution_count": 8,
   "metadata": {},
   "outputs": [
    {
     "name": "stdout",
     "output_type": "stream",
     "text": [
      "+------------+--------+-------+-----------------+-----------+-------+----------+-------------+\n",
      "|CustomerName|     DOB|    UIN|             City|      State|PinCode|CibilScore|DefaulterFlag|\n",
      "+------------+--------+-------+-----------------+-----------+-------+----------+-------------+\n",
      "|    Abhishek|23-08-81|UIN0001|        Ahmedabad|    Gujarat| 380001|       910|            N|\n",
      "|        Aman|17-09-84|UIN0002|           Mumbai|Maharashtra| 400001|       910|            N|\n",
      "|       Harsh|17-03-83|UIN0003|Thiruvananthpuram|     Kerala| 695001|       530|            N|\n",
      "|       Ayush|22-02-78|UIN0004|Thiruvananthpuram|     Kerala| 695001|       530|            N|\n",
      "|       Aditi|21-08-79|UIN0005|           Mumbai|Maharashtra| 400001|      1300|            Y|\n",
      "+------------+--------+-------+-----------------+-----------+-------+----------+-------------+\n",
      "only showing top 5 rows\n",
      "\n"
     ]
    }
   ],
   "source": [
    "client_reference_df.show(5)"
   ]
  },
  {
   "cell_type": "code",
   "execution_count": 15,
   "metadata": {},
   "outputs": [],
   "source": [
    "combined_df = application_data_df.join(other= client_reference_df, on='UIN').drop(client_reference_df.CustomerName).drop(client_reference_df.DOB).drop(client_reference_df.City).drop(client_reference_df.State).drop(client_reference_df.PinCode)"
   ]
  },
  {
   "cell_type": "code",
   "execution_count": 16,
   "metadata": {},
   "outputs": [
    {
     "name": "stdout",
     "output_type": "stream",
     "text": [
      "+-------+------------+--------+-----------------+-----------+-----------------+-----------+------------+-------+----------+----------+-------------+\n",
      "|    UIN|Customername|     DOB|           MailID|PhoneNumber|             City|      State|LivingStatus|PinCode|LoanAmount|CibilScore|DefaulterFlag|\n",
      "+-------+------------+--------+-----------------+-----------+-----------------+-----------+------------+-------+----------+----------+-------------+\n",
      "|UIN0001|    Abhishek|23-08-81|Abhishek@mail.com| 1287655553|        Ahmedabad|    Gujarat|         APL| 380001|     23000|       910|            N|\n",
      "|UIN0002|        Aman|17-09-84|    Aman@mail.com| 9776543221|           Mumbai|Maharashtra|         BPL| 400001|     22500|       910|            N|\n",
      "|UIN0003|       Harsh|17-03-83|   Harsh@mail.com| 9987765234|Thiruvananthpuram|     Kerala|         BPL| 695001|     21500|       530|            N|\n",
      "|UIN0004|       Ayush|22-02-78|   Ayush@mail.com| 4335544553|Thiruvananthpuram|     Kerala|         APL| 695001|     21500|       530|            N|\n",
      "|UIN0005|       Aditi|21-08-79|   Aditi@mail.com| 8888777722|           Mumbai|Maharashtra|         BPL| 400001|     25500|      1300|            Y|\n",
      "|UIN0006|      Anjali|21-06-82|  Anjali@mail.com|  223377882|        Ahmedabad|    Gujarat|         APL| 380001|     21000|       910|            N|\n",
      "|UIN0007|     Shubham|23-08-86| Shubham@mail.com|44557768443|Thiruvananthpuram|     Kerala|         BPL| 695001|     21000|      3530|            N|\n",
      "|UIN0008|     Anushka|25-08-82| Anushka@mail.com| 3344990876|Thiruvananthpuram|     Kerala|         APL| 695001|     24500|      1530|            Y|\n",
      "|UIN0009|       Rohit|23-08-83|   Rohit@mail.com| 3344990876|        Ahmedabad|    Gujarat|         BPL| 380001|     22000|      3530|            N|\n",
      "|UIN0010|     Saurabh|22-08-83| Saurabh@mail.com| 3344990876|           Mumbai|Maharashtra|         APL| 400001|     20500|      4530|            Y|\n",
      "|UIN0011|      Muskan|22-07-84|  Muskan@mail.com| 3344990876|           Mumbai|Maharashtra|         APL| 400001|     20500|       370|            N|\n",
      "|UIN0012|       Rahul|22-08-85|   Rahul@mail.com| 3344990876|           Mumbai|Maharashtra|         APL| 400001|     23500|       370|            N|\n",
      "|UIN0013|     Utkarsh|22-03-86| Utkarsh@mail.com| 3344990876|        Ahmedabad|    Gujarat|         BPL| 380001|     23000|       370|            N|\n",
      "|UIN0014|     Vaibhav|22-02-83| Vaibhav@mail.com| 3344990876|Thiruvananthpuram|     Kerala|         APL| 695001|     24500|       370|            N|\n",
      "|UIN0015|        Amit|28-01-84|    Amit@mail.com| 3344990876|           Mumbai|Maharashtra|         BPL| 400001|     23500|       370|            N|\n",
      "|UIN0016|      Saumya|22-09-85|  Saumya@mail.com| 3344990876|Thiruvananthpuram|     Kerala|         APL| 695001|     24500|       370|            N|\n",
      "|UIN0017|     Rishabh|21-10-86| Rishabh@mail.com| 3344990876|        Ahmedabad|    Gujarat|         BPL| 380001|     23000|       370|            N|\n",
      "|UIN0018|      Shruti|22-08-83|  Shruti@mail.com| 3344990876|           Mumbai|Maharashtra|         APL| 400001|     23000|       370|            N|\n",
      "|UIN0019|    Himanshu|22-08-84|Himanshu@mail.com| 3344990876|Thiruvananthpuram|     Kerala|         BPL| 695001|     24500|       370|            N|\n",
      "|UIN0020|       Kajal|22-08-85|   Kajal@mail.com| 3344990876|           Mumbai|Maharashtra|         APL| 400001|     20500|       370|            Y|\n",
      "+-------+------------+--------+-----------------+-----------+-----------------+-----------+------------+-------+----------+----------+-------------+\n",
      "only showing top 20 rows\n",
      "\n"
     ]
    }
   ],
   "source": [
    "combined_df.show()"
   ]
  },
  {
   "cell_type": "code",
   "execution_count": 17,
   "metadata": {},
   "outputs": [],
   "source": [
    "combined_df.createOrReplaceTempView('combined_table')"
   ]
  },
  {
   "cell_type": "code",
   "execution_count": 18,
   "metadata": {},
   "outputs": [],
   "source": [
    "defaulters = spark.sql(\"Select * from combined_table where DefaulterFlag = 'Y' \")"
   ]
  },
  {
   "cell_type": "code",
   "execution_count": 19,
   "metadata": {},
   "outputs": [
    {
     "name": "stdout",
     "output_type": "stream",
     "text": [
      "+-------+------------+--------+-----------------+-----------+-----------------+-----------+------------+-------+----------+----------+-------------+\n",
      "|    UIN|Customername|     DOB|           MailID|PhoneNumber|             City|      State|LivingStatus|PinCode|LoanAmount|CibilScore|DefaulterFlag|\n",
      "+-------+------------+--------+-----------------+-----------+-----------------+-----------+------------+-------+----------+----------+-------------+\n",
      "|UIN0005|       Aditi|21-08-79|   Aditi@mail.com| 8888777722|           Mumbai|Maharashtra|         BPL| 400001|     25500|      1300|            Y|\n",
      "|UIN0008|     Anushka|25-08-82| Anushka@mail.com| 3344990876|Thiruvananthpuram|     Kerala|         APL| 695001|     24500|      1530|            Y|\n",
      "|UIN0010|     Saurabh|22-08-83| Saurabh@mail.com| 3344990876|           Mumbai|Maharashtra|         APL| 400001|     20500|      4530|            Y|\n",
      "|UIN0020|       Kajal|22-08-85|   Kajal@mail.com| 3344990876|           Mumbai|Maharashtra|         APL| 400001|     20500|       370|            Y|\n",
      "|UIN0023|      Nikhil|22-08-81|  Nikhil@mail.com| 3344990876|        Ahmedabad|    Gujarat|         BPL| 380001|     23000|       370|            Y|\n",
      "|UIN0026|       Priya|22-08-87|   Priya@mail.com| 3344990876|           Mumbai|Maharashtra|         APL| 400001|     21500|       370|            Y|\n",
      "|UIN0028|    Shashank|22-09-87|Shashank@mail.com| 3344990876|Thiruvananthpuram|     Kerala|         APL| 695001|     22000|       370|            Y|\n",
      "|UIN0035|       Vivek|21-08-79|   Vivek@mail.com| 8888777722|           Mumbai|Maharashtra|         BPL| 400001|     25500|      1300|            Y|\n",
      "|UIN0038|      Aditya|25-08-82|  Aditya@mail.com| 3344990876|Thiruvananthpuram|     Kerala|         APL| 695001|     24500|      1530|            Y|\n",
      "|UIN0040|      Ayushi|22-08-83|  Ayushi@mail.com| 3344990876|           Mumbai|Maharashtra|         APL| 400001|     20500|      4530|            Y|\n",
      "|UIN0050|    Ashutosh|22-08-85|Ashutosh@mail.com| 3344990876|           Mumbai|Maharashtra|         APL| 400001|     20500|       370|            Y|\n",
      "|UIN0053|      Piyush|22-08-81|  Piyush@mail.com| 3344990876|        Ahmedabad|    Gujarat|         BPL| 380001|     23000|       370|            Y|\n",
      "|UIN0056|    Akanksha|22-08-87|Akanksha@mail.com| 3344990876|           Mumbai|Maharashtra|         APL| 400001|     21500|       370|            Y|\n",
      "|UIN0058|      Ritika|22-09-87|  Ritika@mail.com| 3344990876|Thiruvananthpuram|     Kerala|         APL| 695001|     22000|       370|            Y|\n",
      "+-------+------------+--------+-----------------+-----------+-----------------+-----------+------------+-------+----------+----------+-------------+\n",
      "\n"
     ]
    }
   ],
   "source": [
    "defaulters.show()"
   ]
  },
  {
   "cell_type": "code",
   "execution_count": 20,
   "metadata": {},
   "outputs": [],
   "source": [
    "bpl = spark.sql(\"Select count(UIN) from combined_table where LivingStatus = 'BPL'\")"
   ]
  },
  {
   "cell_type": "code",
   "execution_count": 21,
   "metadata": {},
   "outputs": [
    {
     "name": "stdout",
     "output_type": "stream",
     "text": [
      "+----------+\n",
      "|count(UIN)|\n",
      "+----------+\n",
      "|        28|\n",
      "+----------+\n",
      "\n"
     ]
    }
   ],
   "source": [
    "bpl.show()"
   ]
  },
  {
   "cell_type": "code",
   "execution_count": 22,
   "metadata": {},
   "outputs": [],
   "source": [
    "apl = spark.sql(\"Select count(UIN) from combined_table where LivingStatus = 'APL'\")"
   ]
  },
  {
   "cell_type": "code",
   "execution_count": 23,
   "metadata": {},
   "outputs": [
    {
     "name": "stdout",
     "output_type": "stream",
     "text": [
      "+----------+\n",
      "|count(UIN)|\n",
      "+----------+\n",
      "|        32|\n",
      "+----------+\n",
      "\n"
     ]
    }
   ],
   "source": [
    "apl.show()"
   ]
  },
  {
   "cell_type": "code",
   "execution_count": 29,
   "metadata": {},
   "outputs": [],
   "source": [
    "status = spark.sql(\"select *, IF(DefaulterFlag == 'N' AND CibilScore > 800, 'Approved', 'Rejected') AS Status from combined_table\")"
   ]
  },
  {
   "cell_type": "code",
   "execution_count": 30,
   "metadata": {},
   "outputs": [
    {
     "name": "stdout",
     "output_type": "stream",
     "text": [
      "+-------+------------+--------+-----------------+-----------+-----------------+-----------+------------+-------+----------+----------+-------------+--------+\n",
      "|    UIN|Customername|     DOB|           MailID|PhoneNumber|             City|      State|LivingStatus|PinCode|LoanAmount|CibilScore|DefaulterFlag|  Status|\n",
      "+-------+------------+--------+-----------------+-----------+-----------------+-----------+------------+-------+----------+----------+-------------+--------+\n",
      "|UIN0001|    Abhishek|23-08-81|Abhishek@mail.com| 1287655553|        Ahmedabad|    Gujarat|         APL| 380001|     23000|       910|            N|Approved|\n",
      "|UIN0002|        Aman|17-09-84|    Aman@mail.com| 9776543221|           Mumbai|Maharashtra|         BPL| 400001|     22500|       910|            N|Approved|\n",
      "|UIN0003|       Harsh|17-03-83|   Harsh@mail.com| 9987765234|Thiruvananthpuram|     Kerala|         BPL| 695001|     21500|       530|            N|Rejected|\n",
      "|UIN0004|       Ayush|22-02-78|   Ayush@mail.com| 4335544553|Thiruvananthpuram|     Kerala|         APL| 695001|     21500|       530|            N|Rejected|\n",
      "|UIN0005|       Aditi|21-08-79|   Aditi@mail.com| 8888777722|           Mumbai|Maharashtra|         BPL| 400001|     25500|      1300|            Y|Rejected|\n",
      "|UIN0006|      Anjali|21-06-82|  Anjali@mail.com|  223377882|        Ahmedabad|    Gujarat|         APL| 380001|     21000|       910|            N|Approved|\n",
      "|UIN0007|     Shubham|23-08-86| Shubham@mail.com|44557768443|Thiruvananthpuram|     Kerala|         BPL| 695001|     21000|      3530|            N|Approved|\n",
      "|UIN0008|     Anushka|25-08-82| Anushka@mail.com| 3344990876|Thiruvananthpuram|     Kerala|         APL| 695001|     24500|      1530|            Y|Rejected|\n",
      "|UIN0009|       Rohit|23-08-83|   Rohit@mail.com| 3344990876|        Ahmedabad|    Gujarat|         BPL| 380001|     22000|      3530|            N|Approved|\n",
      "|UIN0010|     Saurabh|22-08-83| Saurabh@mail.com| 3344990876|           Mumbai|Maharashtra|         APL| 400001|     20500|      4530|            Y|Rejected|\n",
      "|UIN0011|      Muskan|22-07-84|  Muskan@mail.com| 3344990876|           Mumbai|Maharashtra|         APL| 400001|     20500|       370|            N|Rejected|\n",
      "|UIN0012|       Rahul|22-08-85|   Rahul@mail.com| 3344990876|           Mumbai|Maharashtra|         APL| 400001|     23500|       370|            N|Rejected|\n",
      "|UIN0013|     Utkarsh|22-03-86| Utkarsh@mail.com| 3344990876|        Ahmedabad|    Gujarat|         BPL| 380001|     23000|       370|            N|Rejected|\n",
      "|UIN0014|     Vaibhav|22-02-83| Vaibhav@mail.com| 3344990876|Thiruvananthpuram|     Kerala|         APL| 695001|     24500|       370|            N|Rejected|\n",
      "|UIN0015|        Amit|28-01-84|    Amit@mail.com| 3344990876|           Mumbai|Maharashtra|         BPL| 400001|     23500|       370|            N|Rejected|\n",
      "|UIN0016|      Saumya|22-09-85|  Saumya@mail.com| 3344990876|Thiruvananthpuram|     Kerala|         APL| 695001|     24500|       370|            N|Rejected|\n",
      "|UIN0017|     Rishabh|21-10-86| Rishabh@mail.com| 3344990876|        Ahmedabad|    Gujarat|         BPL| 380001|     23000|       370|            N|Rejected|\n",
      "|UIN0018|      Shruti|22-08-83|  Shruti@mail.com| 3344990876|           Mumbai|Maharashtra|         APL| 400001|     23000|       370|            N|Rejected|\n",
      "|UIN0019|    Himanshu|22-08-84|Himanshu@mail.com| 3344990876|Thiruvananthpuram|     Kerala|         BPL| 695001|     24500|       370|            N|Rejected|\n",
      "|UIN0020|       Kajal|22-08-85|   Kajal@mail.com| 3344990876|           Mumbai|Maharashtra|         APL| 400001|     20500|       370|            Y|Rejected|\n",
      "+-------+------------+--------+-----------------+-----------+-----------------+-----------+------------+-------+----------+----------+-------------+--------+\n",
      "only showing top 20 rows\n",
      "\n"
     ]
    }
   ],
   "source": [
    "status.show()"
   ]
  },
  {
   "cell_type": "code",
   "execution_count": 37,
   "metadata": {},
   "outputs": [],
   "source": [
    "eligible = spark.sql(\"select * from combined_table where LivingStatus = 'BPL' AND DefaulterFlag = 'N' AND CibilScore > 800 \")"
   ]
  },
  {
   "cell_type": "code",
   "execution_count": 38,
   "metadata": {},
   "outputs": [
    {
     "name": "stdout",
     "output_type": "stream",
     "text": [
      "+-------+------------+--------+----------------+-----------+-----------------+-----------+------------+-------+----------+----------+-------------+\n",
      "|    UIN|Customername|     DOB|          MailID|PhoneNumber|             City|      State|LivingStatus|PinCode|LoanAmount|CibilScore|DefaulterFlag|\n",
      "+-------+------------+--------+----------------+-----------+-----------------+-----------+------------+-------+----------+----------+-------------+\n",
      "|UIN0002|        Aman|17-09-84|   Aman@mail.com| 9776543221|           Mumbai|Maharashtra|         BPL| 400001|     22500|       910|            N|\n",
      "|UIN0007|     Shubham|23-08-86|Shubham@mail.com|44557768443|Thiruvananthpuram|     Kerala|         BPL| 695001|     21000|      3530|            N|\n",
      "|UIN0009|       Rohit|23-08-83|  Rohit@mail.com| 3344990876|        Ahmedabad|    Gujarat|         BPL| 380001|     22000|      3530|            N|\n",
      "|UIN0032|      Shreya|17-09-84| Shreya@mail.com| 9776543221|           Mumbai|Maharashtra|         BPL| 400001|     22500|       910|            N|\n",
      "|UIN0037|      Vishal|23-08-86| Vishal@mail.com|44557768443|Thiruvananthpuram|     Kerala|         BPL| 695001|     21000|      3530|            N|\n",
      "|UIN0039|       Nidhi|23-08-83|  Nidhi@mail.com| 3344990876|        Ahmedabad|    Gujarat|         BPL| 380001|     22000|      3530|            N|\n",
      "+-------+------------+--------+----------------+-----------+-----------------+-----------+------------+-------+----------+----------+-------------+\n",
      "\n"
     ]
    }
   ],
   "source": [
    "eligible.show()"
   ]
  },
  {
   "cell_type": "code",
   "execution_count": null,
   "metadata": {},
   "outputs": [],
   "source": []
  }
 ],
 "metadata": {
  "kernelspec": {
   "display_name": "Python 3",
   "language": "python",
   "name": "python3"
  },
  "language_info": {
   "codemirror_mode": {
    "name": "ipython",
    "version": 3
   },
   "file_extension": ".py",
   "mimetype": "text/x-python",
   "name": "python",
   "nbconvert_exporter": "python",
   "pygments_lexer": "ipython3",
   "version": "3.10.0"
  },
  "orig_nbformat": 4,
  "vscode": {
   "interpreter": {
    "hash": "52634da84371cba311ea128a5ea7cdc41ff074b781779e754b270ff9f8153cee"
   }
  }
 },
 "nbformat": 4,
 "nbformat_minor": 2
}
